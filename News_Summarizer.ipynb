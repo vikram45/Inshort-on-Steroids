{
  "cells": [
    {
      "cell_type": "markdown",
      "metadata": {
        "colab_type": "text",
        "id": "view-in-github"
      },
      "source": [
        "<a href=\"https://colab.research.google.com/github/parthkohli92/News-Summarizer/blob/main/News_Summarizer.ipynb\" target=\"_parent\"><img src=\"https://colab.research.google.com/assets/colab-badge.svg\" alt=\"Open In Colab\"/></a>"
      ]
    },
    {
      "cell_type": "code",
      "execution_count": 1,
      "metadata": {
        "colab": {
          "base_uri": "https://localhost:8080/"
        },
        "id": "kDyQsjzHDer-",
        "outputId": "ce8b269b-906a-411d-8950-c299fb07baab"
      },
      "outputs": [
        {
          "name": "stdout",
          "output_type": "stream",
          "text": [
            "Collecting nltk\n",
            "  Downloading nltk-3.7-py3-none-any.whl (1.5 MB)\n",
            "     ---------------------------------------- 1.5/1.5 MB 321.8 kB/s eta 0:00:00\n",
            "Collecting regex>=2021.8.3\n",
            "  Downloading regex-2022.7.25-cp39-cp39-win_amd64.whl (262 kB)\n",
            "     ------------------------------------ 262.8/262.8 kB 436.9 kB/s eta 0:00:00\n",
            "Requirement already satisfied: joblib in c:\\users\\vikram\\appdata\\local\\packages\\pythonsoftwarefoundation.python.3.9_qbz5n2kfra8p0\\localcache\\local-packages\\python39\\site-packages (from nltk) (1.1.0)\n",
            "Collecting click\n",
            "  Downloading click-8.1.3-py3-none-any.whl (96 kB)\n",
            "     -------------------------------------- 96.6/96.6 kB 690.8 kB/s eta 0:00:00\n",
            "Collecting tqdm\n",
            "  Downloading tqdm-4.64.0-py2.py3-none-any.whl (78 kB)\n",
            "     -------------------------------------- 78.4/78.4 kB 625.8 kB/s eta 0:00:00\n",
            "Requirement already satisfied: colorama in c:\\users\\vikram\\appdata\\local\\packages\\pythonsoftwarefoundation.python.3.9_qbz5n2kfra8p0\\localcache\\local-packages\\python39\\site-packages (from click->nltk) (0.4.5)\n",
            "Installing collected packages: tqdm, regex, click, nltk\n",
            "Successfully installed click-8.1.3 nltk-3.7 regex-2022.7.25 tqdm-4.64.0\n"
          ]
        },
        {
          "name": "stderr",
          "output_type": "stream",
          "text": [
            "  WARNING: The script tqdm.exe is installed in 'C:\\Users\\Vikram\\AppData\\Local\\Packages\\PythonSoftwareFoundation.Python.3.9_qbz5n2kfra8p0\\LocalCache\\local-packages\\Python39\\Scripts' which is not on PATH.\n",
            "  Consider adding this directory to PATH or, if you prefer to suppress this warning, use --no-warn-script-location.\n",
            "  WARNING: The script nltk.exe is installed in 'C:\\Users\\Vikram\\AppData\\Local\\Packages\\PythonSoftwareFoundation.Python.3.9_qbz5n2kfra8p0\\LocalCache\\local-packages\\Python39\\Scripts' which is not on PATH.\n",
            "  Consider adding this directory to PATH or, if you prefer to suppress this warning, use --no-warn-script-location.\n"
          ]
        },
        {
          "name": "stdout",
          "output_type": "stream",
          "text": [
            "Collecting newspaper3k\n",
            "  Downloading newspaper3k-0.2.8-py3-none-any.whl (211 kB)\n",
            "     ------------------------------------ 211.1/211.1 kB 279.4 kB/s eta 0:00:00\n",
            "Collecting lxml>=3.6.0\n",
            "  Downloading lxml-4.9.1-cp39-cp39-win_amd64.whl (3.6 MB)\n",
            "     ---------------------------------------- 3.6/3.6 MB 414.4 kB/s eta 0:00:00\n",
            "Collecting requests>=2.10.0\n",
            "  Downloading requests-2.28.1-py3-none-any.whl (62 kB)\n",
            "     -------------------------------------- 62.8/62.8 kB 478.2 kB/s eta 0:00:00\n",
            "Collecting beautifulsoup4>=4.4.1\n",
            "  Downloading beautifulsoup4-4.11.1-py3-none-any.whl (128 kB)\n",
            "     ------------------------------------ 128.2/128.2 kB 503.9 kB/s eta 0:00:00\n",
            "Collecting feedparser>=5.2.1\n",
            "  Downloading feedparser-6.0.10-py3-none-any.whl (81 kB)\n",
            "     -------------------------------------- 81.1/81.1 kB 502.6 kB/s eta 0:00:00\n",
            "Collecting PyYAML>=3.11\n",
            "  Downloading PyYAML-6.0-cp39-cp39-win_amd64.whl (151 kB)\n",
            "     ------------------------------------ 151.6/151.6 kB 431.1 kB/s eta 0:00:00\n",
            "Collecting jieba3k>=0.35.1\n",
            "  Downloading jieba3k-0.35.1.zip (7.4 MB)\n",
            "     ---------------------------------------- 7.4/7.4 MB 311.7 kB/s eta 0:00:00\n",
            "  Preparing metadata (setup.py): started\n",
            "  Preparing metadata (setup.py): finished with status 'done'\n",
            "Requirement already satisfied: Pillow>=3.3.0 in c:\\users\\vikram\\appdata\\local\\packages\\pythonsoftwarefoundation.python.3.9_qbz5n2kfra8p0\\localcache\\local-packages\\python39\\site-packages (from newspaper3k) (9.2.0)\n",
            "Collecting cssselect>=0.9.2\n",
            "  Downloading cssselect-1.1.0-py2.py3-none-any.whl (16 kB)\n",
            "Requirement already satisfied: python-dateutil>=2.5.3 in c:\\users\\vikram\\appdata\\local\\packages\\pythonsoftwarefoundation.python.3.9_qbz5n2kfra8p0\\localcache\\local-packages\\python39\\site-packages (from newspaper3k) (2.8.2)\n",
            "Collecting feedfinder2>=0.0.4\n",
            "  Downloading feedfinder2-0.0.4.tar.gz (3.3 kB)\n",
            "  Preparing metadata (setup.py): started\n",
            "  Preparing metadata (setup.py): finished with status 'done'\n",
            "Requirement already satisfied: nltk>=3.2.1 in c:\\users\\vikram\\appdata\\local\\packages\\pythonsoftwarefoundation.python.3.9_qbz5n2kfra8p0\\localcache\\local-packages\\python39\\site-packages (from newspaper3k) (3.7)\n",
            "Collecting tldextract>=2.0.1\n",
            "  Downloading tldextract-3.3.1-py3-none-any.whl (93 kB)\n",
            "     -------------------------------------- 93.6/93.6 kB 666.8 kB/s eta 0:00:00\n",
            "Collecting tinysegmenter==0.3\n",
            "  Downloading tinysegmenter-0.3.tar.gz (16 kB)\n",
            "  Preparing metadata (setup.py): started\n",
            "  Preparing metadata (setup.py): finished with status 'done'\n",
            "Collecting soupsieve>1.2\n",
            "  Downloading soupsieve-2.3.2.post1-py3-none-any.whl (37 kB)\n",
            "Requirement already satisfied: six in c:\\users\\vikram\\appdata\\local\\packages\\pythonsoftwarefoundation.python.3.9_qbz5n2kfra8p0\\localcache\\local-packages\\python39\\site-packages (from feedfinder2>=0.0.4->newspaper3k) (1.16.0)\n",
            "Collecting sgmllib3k\n",
            "  Downloading sgmllib3k-1.0.0.tar.gz (5.8 kB)\n",
            "  Preparing metadata (setup.py): started\n",
            "  Preparing metadata (setup.py): finished with status 'done'\n",
            "Requirement already satisfied: joblib in c:\\users\\vikram\\appdata\\local\\packages\\pythonsoftwarefoundation.python.3.9_qbz5n2kfra8p0\\localcache\\local-packages\\python39\\site-packages (from nltk>=3.2.1->newspaper3k) (1.1.0)\n",
            "Requirement already satisfied: click in c:\\users\\vikram\\appdata\\local\\packages\\pythonsoftwarefoundation.python.3.9_qbz5n2kfra8p0\\localcache\\local-packages\\python39\\site-packages (from nltk>=3.2.1->newspaper3k) (8.1.3)\n",
            "Requirement already satisfied: tqdm in c:\\users\\vikram\\appdata\\local\\packages\\pythonsoftwarefoundation.python.3.9_qbz5n2kfra8p0\\localcache\\local-packages\\python39\\site-packages (from nltk>=3.2.1->newspaper3k) (4.64.0)\n",
            "Requirement already satisfied: regex>=2021.8.3 in c:\\users\\vikram\\appdata\\local\\packages\\pythonsoftwarefoundation.python.3.9_qbz5n2kfra8p0\\localcache\\local-packages\\python39\\site-packages (from nltk>=3.2.1->newspaper3k) (2022.7.25)\n",
            "Collecting certifi>=2017.4.17\n",
            "  Downloading certifi-2022.6.15-py3-none-any.whl (160 kB)\n",
            "     ------------------------------------ 160.2/160.2 kB 961.6 kB/s eta 0:00:00\n",
            "Collecting charset-normalizer<3,>=2\n",
            "  Downloading charset_normalizer-2.1.0-py3-none-any.whl (39 kB)\n",
            "Collecting urllib3<1.27,>=1.21.1\n",
            "  Downloading urllib3-1.26.11-py2.py3-none-any.whl (139 kB)\n",
            "     -------------------------------------- 139.9/139.9 kB 1.0 MB/s eta 0:00:00\n",
            "Collecting idna<4,>=2.5\n",
            "  Downloading idna-3.3-py3-none-any.whl (61 kB)\n",
            "     ---------------------------------------- 61.2/61.2 kB 3.4 MB/s eta 0:00:00\n",
            "Collecting filelock>=3.0.8\n",
            "  Downloading filelock-3.7.1-py3-none-any.whl (10 kB)\n",
            "Collecting requests-file>=1.4\n",
            "  Downloading requests_file-1.5.1-py2.py3-none-any.whl (3.7 kB)\n",
            "Requirement already satisfied: colorama in c:\\users\\vikram\\appdata\\local\\packages\\pythonsoftwarefoundation.python.3.9_qbz5n2kfra8p0\\localcache\\local-packages\\python39\\site-packages (from click->nltk>=3.2.1->newspaper3k) (0.4.5)\n",
            "Using legacy 'setup.py install' for tinysegmenter, since package 'wheel' is not installed.\n",
            "Using legacy 'setup.py install' for feedfinder2, since package 'wheel' is not installed.\n",
            "Using legacy 'setup.py install' for jieba3k, since package 'wheel' is not installed.\n",
            "Using legacy 'setup.py install' for sgmllib3k, since package 'wheel' is not installed.\n",
            "Installing collected packages: tinysegmenter, sgmllib3k, jieba3k, urllib3, soupsieve, PyYAML, lxml, idna, filelock, feedparser, cssselect, charset-normalizer, certifi, requests, beautifulsoup4, requests-file, feedfinder2, tldextract, newspaper3k\n",
            "  Running setup.py install for tinysegmenter: started\n",
            "  Running setup.py install for tinysegmenter: finished with status 'done'\n",
            "  Running setup.py install for sgmllib3k: started\n",
            "  Running setup.py install for sgmllib3k: finished with status 'done'\n",
            "  Running setup.py install for jieba3k: started\n",
            "  Running setup.py install for jieba3k: finished with status 'done'\n",
            "  Running setup.py install for feedfinder2: started\n",
            "  Running setup.py install for feedfinder2: finished with status 'done'\n",
            "Successfully installed PyYAML-6.0 beautifulsoup4-4.11.1 certifi-2022.6.15 charset-normalizer-2.1.0 cssselect-1.1.0 feedfinder2-0.0.4 feedparser-6.0.10 filelock-3.7.1 idna-3.3 jieba3k-0.35.1 lxml-4.9.1 newspaper3k-0.2.8 requests-2.28.1 requests-file-1.5.1 sgmllib3k-1.0.0 soupsieve-2.3.2.post1 tinysegmenter-0.3 tldextract-3.3.1 urllib3-1.26.11\n"
          ]
        },
        {
          "name": "stderr",
          "output_type": "stream",
          "text": [
            "  WARNING: The script normalizer.exe is installed in 'C:\\Users\\Vikram\\AppData\\Local\\Packages\\PythonSoftwareFoundation.Python.3.9_qbz5n2kfra8p0\\LocalCache\\local-packages\\Python39\\Scripts' which is not on PATH.\n",
            "  Consider adding this directory to PATH or, if you prefer to suppress this warning, use --no-warn-script-location.\n",
            "  WARNING: The script tldextract.exe is installed in 'C:\\Users\\Vikram\\AppData\\Local\\Packages\\PythonSoftwareFoundation.Python.3.9_qbz5n2kfra8p0\\LocalCache\\local-packages\\Python39\\Scripts' which is not on PATH.\n",
            "  Consider adding this directory to PATH or, if you prefer to suppress this warning, use --no-warn-script-location.\n"
          ]
        }
      ],
      "source": [
        "!pip install nltk \n",
        "!pip install newspaper3k"
      ]
    },
    {
      "cell_type": "code",
      "execution_count": 2,
      "metadata": {
        "id": "kqNBZzAtE_Ow"
      },
      "outputs": [],
      "source": [
        "import nltk \n",
        "from newspaper import Article"
      ]
    },
    {
      "cell_type": "code",
      "execution_count": 3,
      "metadata": {
        "id": "mRG-iuSfFS6P"
      },
      "outputs": [],
      "source": [
        "# Get the article \n",
        "url = \"https://timesofindia.indiatimes.com/india/india-reports-over-1-79-lakh-new-covid-cases-146-deaths-omicron-tally-at-4003/articleshow/88801476.cms\"\n",
        "article = Article(url)"
      ]
    },
    {
      "cell_type": "code",
      "execution_count": 4,
      "metadata": {
        "colab": {
          "base_uri": "https://localhost:8080/"
        },
        "id": "D-OLymfYFhHU",
        "outputId": "3c7a3868-9c56-4733-8ef2-840c0692329e"
      },
      "outputs": [
        {
          "name": "stderr",
          "output_type": "stream",
          "text": [
            "[nltk_data] Downloading package punkt to\n",
            "[nltk_data]     C:\\Users\\Vikram\\AppData\\Roaming\\nltk_data...\n",
            "[nltk_data]   Unzipping tokenizers\\punkt.zip.\n"
          ]
        }
      ],
      "source": [
        "# Applying NLP\n",
        "article.download()\n",
        "article.parse()\n",
        "nltk.download('punkt')\n",
        "article.nlp()"
      ]
    },
    {
      "cell_type": "code",
      "execution_count": 5,
      "metadata": {
        "colab": {
          "base_uri": "https://localhost:8080/"
        },
        "id": "JLR9Z5TpFsFT",
        "outputId": "f74197c5-08b8-4661-a095-ee71b3c53744"
      },
      "outputs": [
        {
          "data": {
            "text/plain": [
              "['Timesofindia.Com']"
            ]
          },
          "execution_count": 5,
          "metadata": {},
          "output_type": "execute_result"
        }
      ],
      "source": [
        "# Get the Author of the article\n",
        "article.authors"
      ]
    },
    {
      "cell_type": "code",
      "execution_count": 6,
      "metadata": {
        "colab": {
          "base_uri": "https://localhost:8080/"
        },
        "id": "sZLKOSfxFzIc",
        "outputId": "e3488783-f60b-40ed-ac23-5f6e1a698957"
      },
      "outputs": [
        {
          "name": "stdout",
          "output_type": "stream",
          "text": [
            "None\n"
          ]
        }
      ],
      "source": [
        "# Get the publish date \n",
        "print(article.publish_date)"
      ]
    },
    {
      "cell_type": "code",
      "execution_count": 7,
      "metadata": {
        "colab": {
          "base_uri": "https://localhost:8080/",
          "height": 35
        },
        "id": "gc-OW_C9F66-",
        "outputId": "4d19d699-203c-4c6d-c904-e89f6197b53f"
      },
      "outputs": [
        {
          "data": {
            "text/plain": [
              "'https://static.toiimg.com/thumb/msid-88801607,width-1070,height-580,imgsize-72324,resizemode-75,overlay-toi_sw,pt-32,y_pad-40/photo.jpg'"
            ]
          },
          "execution_count": 7,
          "metadata": {},
          "output_type": "execute_result"
        }
      ],
      "source": [
        "# Get the top image \n",
        "article.top_image"
      ]
    },
    {
      "cell_type": "code",
      "execution_count": 8,
      "metadata": {
        "colab": {
          "base_uri": "https://localhost:8080/"
        },
        "id": "ARaENNv-GFz8",
        "outputId": "4f8cf216-3dee-4f28-c990-408ebea13eba"
      },
      "outputs": [
        {
          "name": "stdout",
          "output_type": "stream",
          "text": [
            "NEW DELHI: India on Monday reported 1,79,723 new Covid-19 cases, up by 13% from yesterday, while the active cases rose to 7,23,619, according to the Union health ministry data.There are 4,003 Omicron cases in India with 23 states reporting the new Covid-19 strain. Maharashtra continues to be the worst-affected state with 1, 216 cases followed by Delhi, which has 529 infections.The death toll climbed to 4,83,936 with 146 fresh fatalities according to the data updated at 9am.The active cases comprise 2.03 per cent of the total infections, while the national Covid-19 recovery rate is at 96.62 per cent, the health ministry said.46,569 patients have recovered in the last 24 hours and the cumulative tally of recovered patients (since the beginning of the pandemic) is now at 3,45,00,172.The daily positivity rate was recorded at 13.29 per cent.The weekly positivity rate was also recorded at 7.92 per cent, according to the health ministry.The cumulative doses administered in the country so far under the nationwide Covid-19 vaccination drive has exceeded 149.66 crore.India's Covid-19 tally had crossed the 20-lakh mark on August 7, 2020, 30 lakh on August 23, 40 lakh on September 5 and 50 lakh on September 16.It went past 60 lakh on September 28, 70 lakh on October 11, crossed 80 lakh on October 29, 90 lakh on November 20 and surpassed the one-crore mark on December 19.India crossed the grim milestone of two crore on May 4 and three crore on June 23.\n"
          ]
        }
      ],
      "source": [
        "# Get the article text \n",
        "print(article.text)"
      ]
    },
    {
      "cell_type": "code",
      "execution_count": 9,
      "metadata": {
        "colab": {
          "base_uri": "https://localhost:8080/"
        },
        "id": "GHNzoOdnGKDw",
        "outputId": "4000bb0a-d077-419b-a7c2-fec1d7f80785"
      },
      "outputs": [
        {
          "name": "stdout",
          "output_type": "stream",
          "text": [
            "NEW DELHI: India on Monday reported 1,79,723 new Covid-19 cases, up by 13% from yesterday, while the active cases rose to 7,23,619, according to the Union health ministry data.There are 4,003 Omicron cases in India with 23 states reporting the new Covid-19 strain.\n",
            "Maharashtra continues to be the worst-affected state with 1, 216 cases followed by Delhi, which has 529 infections.The death toll climbed to 4,83,936 with 146 fresh fatalities according to the data updated at 9am.The active cases comprise 2.03 per cent of the total infections, while the national Covid-19 recovery rate is at 96.62 per cent, the health ministry said.46,569 patients have recovered in the last 24 hours and the cumulative tally of recovered patients (since the beginning of the pandemic) is now at 3,45,00,172.The daily positivity rate was recorded at 13.29 per cent.The weekly positivity rate was also recorded at 7.92 per cent, according to the health ministry.The cumulative doses administered in the country so far under the nationwide Covid-19 vaccination drive has exceeded 149.66 crore.India's Covid-19 tally had crossed the 20-lakh mark on August 7, 2020, 30 lakh on August 23, 40 lakh on September 5 and 50 lakh on September 16.It went past 60 lakh on September 28, 70 lakh on October 11, crossed 80 lakh on October 29, 90 lakh on November 20 and surpassed the one-crore mark on December 19.India crossed the grim milestone of two crore on May 4 and three crore on June 23.\n"
          ]
        }
      ],
      "source": [
        "# Get the summary of the article \n",
        "print(article.summary)"
      ]
    },
    {
      "cell_type": "code",
      "execution_count": 10,
      "metadata": {
        "colab": {
          "base_uri": "https://localhost:8080/",
          "height": 122
        },
        "id": "2WJmxj9QGUeZ",
        "outputId": "1d1d9a7b-a0e9-43ea-dbe1-3088e4c5e716"
      },
      "outputs": [
        {
          "data": {
            "text/plain": [
              "\"NEW DELHI: India on Monday reported 1,79,723 new Covid-19 cases, up by 13% from yesterday, while the active cases rose to 7,23,619, according to the Union health ministry data.There are 4,003 Omicron cases in India with 23 states reporting the new Covid-19 strain.\\nMaharashtra continues to be the worst-affected state with 1, 216 cases followed by Delhi, which has 529 infections.The death toll climbed to 4,83,936 with 146 fresh fatalities according to the data updated at 9am.The active cases comprise 2.03 per cent of the total infections, while the national Covid-19 recovery rate is at 96.62 per cent, the health ministry said.46,569 patients have recovered in the last 24 hours and the cumulative tally of recovered patients (since the beginning of the pandemic) is now at 3,45,00,172.The daily positivity rate was recorded at 13.29 per cent.The weekly positivity rate was also recorded at 7.92 per cent, according to the health ministry.The cumulative doses administered in the country so far under the nationwide Covid-19 vaccination drive has exceeded 149.66 crore.India's Covid-19 tally had crossed the 20-lakh mark on August 7, 2020, 30 lakh on August 23, 40 lakh on September 5 and 50 lakh on September 16.It went past 60 lakh on September 28, 70 lakh on October 11, crossed 80 lakh on October 29, 90 lakh on November 20 and surpassed the one-crore mark on December 19.India crossed the grim milestone of two crore on May 4 and three crore on June 23.\""
            ]
          },
          "execution_count": 10,
          "metadata": {},
          "output_type": "execute_result"
        }
      ],
      "source": [
        "article.summary"
      ]
    },
    {
      "cell_type": "code",
      "execution_count": null,
      "metadata": {
        "id": "STSvy2eAGYPN"
      },
      "outputs": [],
      "source": []
    },
    {
      "cell_type": "code",
      "execution_count": null,
      "metadata": {},
      "outputs": [],
      "source": []
    }
  ],
  "metadata": {
    "colab": {
      "authorship_tag": "ABX9TyOA735LV/iIAU95tFrtv7s3",
      "include_colab_link": true,
      "name": "News-Summarizer.ipynb",
      "provenance": []
    },
    "kernelspec": {
      "display_name": "Python 3.9.13 64-bit (windows store)",
      "language": "python",
      "name": "python3"
    },
    "language_info": {
      "codemirror_mode": {
        "name": "ipython",
        "version": 3
      },
      "file_extension": ".py",
      "mimetype": "text/x-python",
      "name": "python",
      "nbconvert_exporter": "python",
      "pygments_lexer": "ipython3",
      "version": "3.9.13"
    },
    "vscode": {
      "interpreter": {
        "hash": "75796968f2d04ae56578c7223d5dba2f7e27dbe7fdd5c6daed303cfc9b0e1f8d"
      }
    }
  },
  "nbformat": 4,
  "nbformat_minor": 0
}
